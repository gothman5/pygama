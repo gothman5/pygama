{
 "cells": [
  {
   "cell_type": "code",
   "execution_count": null,
   "metadata": {},
   "outputs": [],
   "source": [
    "import sys, os\n",
    "import numpy as np\n",
    "\n",
    "from pygama.dsp.ProcessingChain import ProcessingChain\n",
    "from pygama.dsp.processors import *\n",
    "from pygama.dsp.units import *\n",
    "\n",
    "from pygama.io import io_base as io\n",
    "\n",
    "# CONSTANT VARIABLES TO SET UP CONFIG\n",
    "filename = os.path.expandvars('$DATADIR/CAGE/pygama_raw/raw_run42.lh5')\n",
    "groupname = \"ORSIS3302DecoderForEnergy\"\n",
    "verbosity = 2\n",
    "wfblock = 8"
   ]
  },
  {
   "cell_type": "code",
   "execution_count": null,
   "metadata": {},
   "outputs": [],
   "source": [
    "# Set up file I/O\n",
    "lh5 = io.LH5Store()\n",
    "data = lh5.read_object(groupname, filename, start_row=0, n_rows=1000)\n",
    "\n",
    "wf_in = data['waveform']['values'].nda\n",
    "dt = data['waveform']['dt'].nda[0] * unit_parser.parse_unit(data['waveform']['dt'].attrs['units'])\n",
    "\n",
    "# Parameters for DCR calculation\n",
    "dcr_trap_int = 200\n",
    "dcr_trap_flat = 1000\n",
    "dcr_trap_startSample = 1200\n",
    "\n",
    "# Set up processing chain\n",
    "proc = ProcessingChain(block_width=wfblock, clock_unit=dt, verbosity=verbosity)\n",
    "proc.add_input_buffer(\"wf\", wf_in, dtype='float32')\n",
    "proc.add_processor(mean_stdev, \"wf[0:1000]\", \"bl\", \"bl_sig\")\n",
    "proc.add_processor(np.subtract, \"wf\", \"bl\", \"wf_blsub\")\n",
    "proc.add_processor(pole_zero, \"wf_blsub\", 70*us, \"wf_pz\")\n",
    "proc.add_processor(trap_norm, \"wf_pz\", 10*us, 10*us, \"wf_trap\")\n",
    "\n",
    "#calculation of DCR using trap_norm. Calculates full trapezoidal filter, fixed time pickoff to choose DCR value\n",
    "proc.add_processor(trap_norm, \"wf_pz\", dcr_trap_int, dcr_trap_flat, \"dcr_trap\")\n",
    "proc.add_processor(np.argmax, \"wf_blsub\", -1, \"dcr_trap_max_sample\", signature='(n),()->()', types=['fi->i'])\n",
    "proc.add_processor(fixed_time_pickoff, \"dcr_trap\", \"dcr_trap_max_sample\",dcr_trap_startSample, \"dcr\")\n",
    "\n",
    "#calculation of DCR using trap_pickoff. Equivalent to method with trap_norm, but only calculates portion of the trap relevent for DCR\n",
    "proc.add_processor(trap_pickoff, \"wf_pz\", dcr_trap_int, dcr_trap_flat, dcr_trap_startSample, \"dcr_new\")\n"
   ]
  },
  {
   "cell_type": "code",
   "execution_count": null,
   "metadata": {},
   "outputs": [],
   "source": [
    "# Get the outputs of interest\n",
    "wf = proc.get_output_buffer(\"wf_blsub\")\n",
    "trap = proc.get_output_buffer(\"wf_trap\")\n",
    "wfindex = np.arange(trap.shape[-1])\n",
    "wf_pz = proc.get_output_buffer(\"wf_pz\")\n",
    "wf_trap = proc.get_output_buffer(\"wf_trap\")\n",
    "\n",
    "dcr_trap = proc.get_output_buffer(\"dcr_trap\")\n",
    "dcr_trap_max_sample = proc.get_output_buffer(\"dcr_trap_max_sample\")\n",
    "dcr_index = np.arange(dcr_trap.shape[-1])\n",
    "\n",
    "dcr_new = proc.get_output_buffer(\"dcr_new\")\n",
    "\n",
    "\n",
    "# Execute analysis\n",
    "proc.execute()\n"
   ]
  },
  {
   "cell_type": "code",
   "execution_count": null,
   "metadata": {},
   "outputs": [],
   "source": [
    "# Set index counter. Rerun this box to start over the file...\n",
    "wfnum = 0"
   ]
  },
  {
   "cell_type": "code",
   "execution_count": null,
   "metadata": {},
   "outputs": [],
   "source": [
    "import matplotlib.pyplot as plt\n",
    "\n",
    "print(dcr_trap[wfnum][-1])\n",
    "print(dcr_new[wfnum])\n",
    "\n",
    "# Draw things!\n",
    "plt.scatter(wfindex, wf_pz[wfnum])\n",
    "plt.scatter(wfindex, wf_trap[wfnum])\n",
    "# plt.scatter(dcr_index, dcr_trap[wfnum])\n",
    "# plt.hlines(dcr_trap[wfnum][-1], 0, np.argmax(wf_pz[wfnum]), colors='red')\n",
    "# plt.hlines(dcr_new[wfnum], dcr_trap_startSample, len(wf_pz[wfnum]))\n",
    "\n",
    "plt.show();\n",
    "wfnum+=1"
   ]
  },
  {
   "cell_type": "code",
   "execution_count": null,
   "metadata": {},
   "outputs": [],
   "source": []
  },
  {
   "cell_type": "code",
   "execution_count": null,
   "metadata": {},
   "outputs": [],
   "source": []
  }
 ],
 "metadata": {
  "@webio": {
   "lastCommId": null,
   "lastKernelId": null
  },
  "kernelspec": {
   "display_name": "Python 3",
   "language": "python",
   "name": "python3"
  },
  "language_info": {
   "codemirror_mode": {
    "name": "ipython",
    "version": 3
   },
   "file_extension": ".py",
   "mimetype": "text/x-python",
   "name": "python",
   "nbconvert_exporter": "python",
   "pygments_lexer": "ipython3",
   "version": "3.7.2"
  }
 },
 "nbformat": 4,
 "nbformat_minor": 2
}
