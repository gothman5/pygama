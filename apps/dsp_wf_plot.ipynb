{
 "cells": [
  {
   "cell_type": "code",
   "execution_count": 1,
   "metadata": {},
   "outputs": [],
   "source": [
    "import sys, os\n",
    "import numpy as np\n",
    "# import h5py\n",
    "\n",
    "from pygama.dsp.ProcessingChain import ProcessingChain\n",
    "from pygama.dsp.processors import *\n",
    "from pygama.dsp.units import *\n",
    "\n",
    "from pygama.io import io_base as io\n",
    "\n",
    "# CONSTANT VARIABLES TO SET UP CONFIG\n",
    "# with h5py.File(\"/Volumes/LaCie/Data/CAGE/pygama_raw/raw_run11.lh5\", 'r') as f:\n",
    "#     print(f.keys())\n",
    "filename = os.path.expandvars(\"/Volumes/LaCie/Data/CAGE/pygama_raw/raw_run11.lh5\")\n",
    "groupname = \"/ORSIS3302DecoderForEnergy\"\n",
    "nentries = 1000 # Number of entries in the file to process\n",
    "start_entry = 0 # First entry to process\n",
    "verbosity = 2\n",
    "wfblock = 8"
   ]
  },
  {
   "cell_type": "code",
   "execution_count": 43,
   "metadata": {},
   "outputs": [
    {
     "name": "stdout",
     "output_type": "stream",
     "text": [
      "Setting i/o buffer length to 1000\n",
      "Added variable wf with shape (8, 3000) and type float32\n",
      "Binding input buffer of shape (1000, 3000) and type uint16 to variable wf with shape (8, 3000) and type float32\n",
      "Added variable bl with shape (8,) and type float32\n",
      "Added variable bl_sig with shape (8,) and type float32\n",
      "Added processor: mean_stdev(wf, bl, bl_sig)\n",
      "Added variable wf_blsub with shape (8, 3000) and type float32\n",
      "Added processor: subtract(wf, bl, wf_blsub)\n",
      "Added variable wf_pz with shape (8, 3000) and type float32\n",
      "Added processor: pole_zero(wf_blsub, 7000.0, wf_pz)\n",
      "Added variable wf_trap with shape (8, 3000) and type float32\n",
      "Added processor: trap_filter(wf_pz, 1000, 500, wf_trap)\n",
      "Added variable wf_atrap with shape (8, 3000) and type float32\n",
      "Added processor: asymTrapFilter(wf_pz, 500, 200, 400, wf_atrap)\n",
      "Added variable trap_norm with shape (8, 3000) and type float32\n",
      "Added processor: true_divide(wf_trap, 1000.0, trap_norm)\n",
      "Added variable trapE with shape (8,) and type float32\n",
      "Added processor: amax(wf_atrap, 1, trapE)\n",
      "Added variable curr with shape (8, 3000) and type float32\n",
      "Added processor: avg_current(wf_pz, 10, curr)\n",
      "Added variable curr_amp with shape (8,) and type float32\n",
      "Added processor: amax(curr, 1, curr_amp)\n"
     ]
    }
   ],
   "source": [
    "# Set up file I/O\n",
    "lh5 = io.LH5Store()\n",
    "data = lh5.read_object(groupname, filename, n_rows=nentries, start_row=start_entry)\n",
    "\n",
    "wf_in = data['waveform']['values'].nda\n",
    "dt = data['waveform']['dt'].nda[0] * unit_parser.parse_unit(data['waveform']['dt'].attrs['units'])\n",
    "\n",
    "# Set up processing chain\n",
    "proc = ProcessingChain(block_width=wfblock, clock_unit=dt, verbosity=verbosity)\n",
    "proc.add_input_buffer(\"wf\", wf_in, dtype='float32')\n",
    "\n",
    "# Basic Filters\n",
    "proc.add_processor(mean_stdev, \"wf[0:1000]\", \"bl\", \"bl_sig\")\n",
    "proc.add_processor(np.subtract, \"wf\", \"bl\", \"wf_blsub\")\n",
    "proc.add_processor(pole_zero, \"wf_blsub\", 70*us, \"wf_pz\")\n",
    "proc.add_processor(trap_filter, \"wf_pz\", 10*us, 5*us, \"wf_trap\")\n",
    "proc.add_processor(asymTrapFilter, \"wf_pz\", 5*us, 2*us, 4*us, \"wf_atrap\")\n",
    "\n",
    "# Energy calculation\n",
    "proc.add_processor(np.divide, \"wf_trap\", 10*us, \"trap_norm\")\n",
    "# proc.add_processor(np.divide, \"wf_atrap\", 10*us, \"atrap_norm\")\n",
    "proc.add_processor(np.amax, \"wf_atrap\", 1, \"atrapE\", signature='(n),()->()', types=['fi->f'])\n",
    "# proc.add_processor(np.amax, \"trap_norm\", 1, \"trapE\", signature='(n),()->()', types=['fi->f'])\n",
    "\n",
    "# Current calculation\n",
    "proc.add_processor(avg_current, \"wf_pz\", 10, \"curr\")\n",
    "proc.add_processor(np.amax, \"curr\", 1, \"curr_amp\", signature='(n),()->()', types=['fi->f'])\n"
   ]
  },
  {
   "cell_type": "code",
   "execution_count": 44,
   "metadata": {},
   "outputs": [
    {
     "name": "stdout",
     "output_type": "stream",
     "text": [
      "Binding output buffer of shape (1000, 3000) and type float32 to variable wf_blsub with shape (8, 3000) and type float32\n",
      "Binding output buffer of shape (1000, 3000) and type float32 to variable trap_norm with shape (8, 3000) and type float32\n",
      "Binding output buffer of shape (1000, 3000) and type float32 to variable wf_atrap with shape (8, 3000) and type float32\n",
      "Binding output buffer of shape (1000,) and type float32 to variable trapE with shape (8,) and type float32\n",
      "Binding output buffer of shape (1000, 3000) and type float32 to variable curr with shape (8, 3000) and type float32\n",
      "Binding output buffer of shape (1000,) and type float32 to variable curr_amp with shape (8,) and type float32\n"
     ]
    },
    {
     "ename": "ValueError",
     "evalue": "operands could not be broadcast together with shapes (2500,) (2600,) (2500,) ",
     "output_type": "error",
     "traceback": [
      "\u001b[0;31m---------------------------------------------------------------------------\u001b[0m",
      "\u001b[0;31mValueError\u001b[0m                                Traceback (most recent call last)",
      "\u001b[0;32m<ipython-input-44-cc73d4672dcd>\u001b[0m in \u001b[0;36m<module>\u001b[0;34m\u001b[0m\n\u001b[1;32m     10\u001b[0m \u001b[0;34m\u001b[0m\u001b[0m\n\u001b[1;32m     11\u001b[0m \u001b[0;31m# Execute analysis\u001b[0m\u001b[0;34m\u001b[0m\u001b[0;34m\u001b[0m\u001b[0;34m\u001b[0m\u001b[0m\n\u001b[0;32m---> 12\u001b[0;31m \u001b[0mproc\u001b[0m\u001b[0;34m.\u001b[0m\u001b[0mexecute\u001b[0m\u001b[0;34m(\u001b[0m\u001b[0;34m)\u001b[0m\u001b[0;34m\u001b[0m\u001b[0;34m\u001b[0m\u001b[0m\n\u001b[0m",
      "\u001b[0;32m~/software/pygama/pygama/dsp/ProcessingChain.py\u001b[0m in \u001b[0;36mexecute\u001b[0;34m(self)\u001b[0m\n\u001b[1;32m    271\u001b[0m         \u001b[0;34m\"\"\"Execute the dsp chain on the entire input/output buffers\"\"\"\u001b[0m\u001b[0;34m\u001b[0m\u001b[0;34m\u001b[0m\u001b[0m\n\u001b[1;32m    272\u001b[0m         \u001b[0;32mfor\u001b[0m \u001b[0mbegin\u001b[0m \u001b[0;32min\u001b[0m \u001b[0mrange\u001b[0m\u001b[0;34m(\u001b[0m\u001b[0;36m0\u001b[0m\u001b[0;34m,\u001b[0m \u001b[0mself\u001b[0m\u001b[0;34m.\u001b[0m\u001b[0m_buffer_len\u001b[0m\u001b[0;34m,\u001b[0m \u001b[0mself\u001b[0m\u001b[0;34m.\u001b[0m\u001b[0m_block_width\u001b[0m\u001b[0;34m)\u001b[0m\u001b[0;34m:\u001b[0m\u001b[0;34m\u001b[0m\u001b[0;34m\u001b[0m\u001b[0m\n\u001b[0;32m--> 273\u001b[0;31m             \u001b[0mself\u001b[0m\u001b[0;34m.\u001b[0m\u001b[0mexecute_block\u001b[0m\u001b[0;34m(\u001b[0m\u001b[0mbegin\u001b[0m\u001b[0;34m)\u001b[0m\u001b[0;34m\u001b[0m\u001b[0;34m\u001b[0m\u001b[0m\n\u001b[0m\u001b[1;32m    274\u001b[0m \u001b[0;34m\u001b[0m\u001b[0m\n\u001b[1;32m    275\u001b[0m     \u001b[0;32mdef\u001b[0m \u001b[0mexecute_block\u001b[0m\u001b[0;34m(\u001b[0m\u001b[0mself\u001b[0m\u001b[0;34m,\u001b[0m \u001b[0moffset\u001b[0m\u001b[0;34m=\u001b[0m\u001b[0;36m0\u001b[0m\u001b[0;34m)\u001b[0m\u001b[0;34m:\u001b[0m\u001b[0;34m\u001b[0m\u001b[0;34m\u001b[0m\u001b[0m\n",
      "\u001b[0;32m~/software/pygama/pygama/dsp/ProcessingChain.py\u001b[0m in \u001b[0;36mexecute_block\u001b[0;34m(self, offset)\u001b[0m\n\u001b[1;32m    279\u001b[0m         \u001b[0mend\u001b[0m \u001b[0;34m=\u001b[0m \u001b[0mmin\u001b[0m\u001b[0;34m(\u001b[0m\u001b[0moffset\u001b[0m\u001b[0;34m+\u001b[0m\u001b[0mself\u001b[0m\u001b[0;34m.\u001b[0m\u001b[0m_block_width\u001b[0m\u001b[0;34m,\u001b[0m \u001b[0mself\u001b[0m\u001b[0;34m.\u001b[0m\u001b[0m_buffer_len\u001b[0m\u001b[0;34m)\u001b[0m\u001b[0;34m\u001b[0m\u001b[0;34m\u001b[0m\u001b[0m\n\u001b[1;32m    280\u001b[0m         \u001b[0;32mif\u001b[0m \u001b[0mself\u001b[0m\u001b[0;34m.\u001b[0m\u001b[0m_verbosity\u001b[0m\u001b[0;34m<\u001b[0m\u001b[0;36m3\u001b[0m\u001b[0;34m:\u001b[0m\u001b[0;34m\u001b[0m\u001b[0;34m\u001b[0m\u001b[0m\n\u001b[0;32m--> 281\u001b[0;31m             \u001b[0mself\u001b[0m\u001b[0;34m.\u001b[0m\u001b[0m__execute_procs\u001b[0m\u001b[0;34m(\u001b[0m\u001b[0moffset\u001b[0m\u001b[0;34m,\u001b[0m \u001b[0mend\u001b[0m\u001b[0;34m)\u001b[0m\u001b[0;34m\u001b[0m\u001b[0;34m\u001b[0m\u001b[0m\n\u001b[0m\u001b[1;32m    282\u001b[0m         \u001b[0;32melse\u001b[0m\u001b[0;34m:\u001b[0m\u001b[0;34m\u001b[0m\u001b[0;34m\u001b[0m\u001b[0m\n\u001b[1;32m    283\u001b[0m             \u001b[0mself\u001b[0m\u001b[0;34m.\u001b[0m\u001b[0m__execute_procs_verbose\u001b[0m\u001b[0;34m(\u001b[0m\u001b[0moffset\u001b[0m\u001b[0;34m,\u001b[0m \u001b[0mend\u001b[0m\u001b[0;34m)\u001b[0m\u001b[0;34m\u001b[0m\u001b[0;34m\u001b[0m\u001b[0m\n",
      "\u001b[0;32m~/software/pygama/pygama/dsp/ProcessingChain.py\u001b[0m in \u001b[0;36m__execute_procs\u001b[0;34m(self, start, end)\u001b[0m\n\u001b[1;32m    358\u001b[0m             \u001b[0mnp\u001b[0m\u001b[0;34m.\u001b[0m\u001b[0mcopyto\u001b[0m\u001b[0;34m(\u001b[0m\u001b[0mvar\u001b[0m\u001b[0;34m[\u001b[0m\u001b[0;36m0\u001b[0m\u001b[0;34m:\u001b[0m\u001b[0mend\u001b[0m\u001b[0;34m-\u001b[0m\u001b[0mstart\u001b[0m\u001b[0;34m,\u001b[0m \u001b[0;34m...\u001b[0m\u001b[0;34m]\u001b[0m\u001b[0;34m,\u001b[0m \u001b[0mbuf\u001b[0m\u001b[0;34m[\u001b[0m\u001b[0mstart\u001b[0m\u001b[0;34m:\u001b[0m\u001b[0mend\u001b[0m\u001b[0;34m,\u001b[0m \u001b[0;34m...\u001b[0m\u001b[0;34m]\u001b[0m\u001b[0;34m,\u001b[0m \u001b[0;34m'unsafe'\u001b[0m\u001b[0;34m)\u001b[0m\u001b[0;34m\u001b[0m\u001b[0;34m\u001b[0m\u001b[0m\n\u001b[1;32m    359\u001b[0m         \u001b[0;32mfor\u001b[0m \u001b[0mfunc\u001b[0m\u001b[0;34m,\u001b[0m \u001b[0margs\u001b[0m \u001b[0;32min\u001b[0m \u001b[0mself\u001b[0m\u001b[0;34m.\u001b[0m\u001b[0m__proc_list\u001b[0m\u001b[0;34m:\u001b[0m\u001b[0;34m\u001b[0m\u001b[0;34m\u001b[0m\u001b[0m\n\u001b[0;32m--> 360\u001b[0;31m             \u001b[0mfunc\u001b[0m\u001b[0;34m(\u001b[0m\u001b[0;34m*\u001b[0m\u001b[0margs\u001b[0m\u001b[0;34m)\u001b[0m\u001b[0;34m\u001b[0m\u001b[0;34m\u001b[0m\u001b[0m\n\u001b[0m\u001b[1;32m    361\u001b[0m         \u001b[0;32mfor\u001b[0m \u001b[0mbuf\u001b[0m\u001b[0;34m,\u001b[0m \u001b[0mvar\u001b[0m \u001b[0;32min\u001b[0m \u001b[0mself\u001b[0m\u001b[0;34m.\u001b[0m\u001b[0m__output_buffers\u001b[0m\u001b[0;34m.\u001b[0m\u001b[0mvalues\u001b[0m\u001b[0;34m(\u001b[0m\u001b[0;34m)\u001b[0m\u001b[0;34m:\u001b[0m\u001b[0;34m\u001b[0m\u001b[0;34m\u001b[0m\u001b[0m\n\u001b[1;32m    362\u001b[0m             \u001b[0mnp\u001b[0m\u001b[0;34m.\u001b[0m\u001b[0mcopyto\u001b[0m\u001b[0;34m(\u001b[0m\u001b[0mbuf\u001b[0m\u001b[0;34m[\u001b[0m\u001b[0mstart\u001b[0m\u001b[0;34m:\u001b[0m\u001b[0mend\u001b[0m\u001b[0;34m,\u001b[0m \u001b[0;34m...\u001b[0m\u001b[0;34m]\u001b[0m\u001b[0;34m,\u001b[0m \u001b[0mvar\u001b[0m\u001b[0;34m[\u001b[0m\u001b[0;36m0\u001b[0m\u001b[0;34m:\u001b[0m\u001b[0mend\u001b[0m\u001b[0;34m-\u001b[0m\u001b[0mstart\u001b[0m\u001b[0;34m,\u001b[0m \u001b[0;34m...\u001b[0m\u001b[0;34m]\u001b[0m\u001b[0;34m,\u001b[0m \u001b[0;34m'unsafe'\u001b[0m\u001b[0;34m)\u001b[0m\u001b[0;34m\u001b[0m\u001b[0;34m\u001b[0m\u001b[0m\n",
      "\u001b[0;31mValueError\u001b[0m: operands could not be broadcast together with shapes (2500,) (2600,) (2500,) "
     ]
    }
   ],
   "source": [
    "# Get the outputs of interest\n",
    "wf = proc.get_output_buffer(\"wf_blsub\")\n",
    "trap = proc.get_output_buffer(\"trap_norm\")\n",
    "atrap = proc.get_output_buffer(\"wf_atrap\")\n",
    "trapE = proc.get_output_buffer(\"atrapE\")\n",
    "curr = proc.get_output_buffer(\"curr\")\n",
    "curr_amp = proc.get_output_buffer(\"curr_amp\")\n",
    "\n",
    "wfindex = np.arange(trap.shape[-1])\n",
    "\n",
    "# Execute analysis\n",
    "proc.execute()\n"
   ]
  },
  {
   "cell_type": "code",
   "execution_count": 45,
   "metadata": {},
   "outputs": [],
   "source": [
    "# Set index counter. Rerun this box to start over the file...\n",
    "wfnum = 0"
   ]
  },
  {
   "cell_type": "code",
   "execution_count": 46,
   "metadata": {},
   "outputs": [
    {
     "data": {
      "image/png": "[encoded data removed]",
      "text/plain": [
       "<Figure size 432x288 with 1 Axes>"
      ]
     },
     "metadata": {
      "needs_background": "light"
     },
     "output_type": "display_data"
    }
   ],
   "source": [
    "import matplotlib.pyplot as plt\n",
    "\n",
    "# Draw things!\n",
    "plt.scatter(wfindex, wf[wfnum])\n",
    "# plt.scatter(wfindex, trap[wfnum])\n",
    "plt.scatter(wfindex, atrap[wfnum])\n",
    "# plt.scatter(wfindex, curr[wfnum])\n",
    "plt.hlines(trapE[wfnum], wfindex[0], wfindex[-1])\n",
    "# plt.hlines(curr_amp[wfnum], wfindex[0], wfindex[-1])\n",
    "\n",
    "wfnum+=1"
   ]
  },
  {
   "cell_type": "code",
   "execution_count": null,
   "metadata": {},
   "outputs": [],
   "source": []
  },
  {
   "cell_type": "code",
   "execution_count": null,
   "metadata": {},
   "outputs": [],
   "source": []
  }
 ],
 "metadata": {
  "@webio": {
   "lastCommId": null,
   "lastKernelId": null
  },
  "kernelspec": {
   "display_name": "Python 3",
   "language": "python",
   "name": "python3"
  },
  "language_info": {
   "codemirror_mode": {
    "name": "ipython",
    "version": 3
   },
   "file_extension": ".py",
   "mimetype": "text/x-python",
   "name": "python",
   "nbconvert_exporter": "python",
   "pygments_lexer": "ipython3",
   "version": "3.7.4"
  }
 },
 "nbformat": 4,
 "nbformat_minor": 2
}
